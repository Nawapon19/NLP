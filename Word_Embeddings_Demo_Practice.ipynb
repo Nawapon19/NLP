{
  "nbformat": 4,
  "nbformat_minor": 0,
  "metadata": {
    "colab": {
      "provenance": [],
      "authorship_tag": "ABX9TyMn3FcJ4fVukMK7+dtWIpSh",
      "include_colab_link": true
    },
    "kernelspec": {
      "name": "python3",
      "display_name": "Python 3"
    },
    "language_info": {
      "name": "python"
    }
  },
  "cells": [
    {
      "cell_type": "markdown",
      "metadata": {
        "id": "view-in-github",
        "colab_type": "text"
      },
      "source": [
        "<a href=\"https://colab.research.google.com/github/Nawapon19/NLP/blob/main/Word_Embeddings_Demo_Practice.ipynb\" target=\"_parent\"><img src=\"https://colab.research.google.com/assets/colab-badge.svg\" alt=\"Open In Colab\"/></a>"
      ]
    },
    {
      "cell_type": "markdown",
      "source": [
        "**Word Embeddings Demo Practice**"
      ],
      "metadata": {
        "id": "PLSDf1cDtQmr"
      }
    },
    {
      "cell_type": "markdown",
      "source": [
        "**Word2Vec(Google)**"
      ],
      "metadata": {
        "id": "7f6khA-61QA1"
      }
    },
    {
      "cell_type": "code",
      "source": [
        "# import gdown for downloading file from google drive\n",
        "import gdown"
      ],
      "metadata": {
        "id": "Tg3n8b-KvSdC"
      },
      "execution_count": 32,
      "outputs": []
    },
    {
      "cell_type": "code",
      "execution_count": 33,
      "metadata": {
        "id": "3SxtoOZ5i5--",
        "colab": {
          "base_uri": "https://localhost:8080/"
        },
        "outputId": "3a137da6-9deb-4208-a51c-d98a4ac3e0a3"
      },
      "outputs": [
        {
          "output_type": "stream",
          "name": "stdout",
          "text": [
            "Downloading...\n",
            "From: https://drive.google.com/uc?id=0B7XkCwpI5KDYNlNUTTlSS21pQmM\n",
            "To: /content/GoogleNews-vectors-negative300.bin.gz\n",
            "100% 1.65G/1.65G [00:19<00:00, 84.4MB/s]\n"
          ]
        }
      ],
      "source": [
        "# download pre-trained vectors of Google News dataset\n",
        "# the model contains 300-dimensional vectors for 3 million words and phrases\n",
        "!gdown https://drive.google.com/uc?id=0B7XkCwpI5KDYNlNUTTlSS21pQmM"
      ]
    },
    {
      "cell_type": "code",
      "source": [
        "# unzip using gunzip command for gzip file\n",
        "!gunzip GoogleNews-vectors-negative300.bin.gz"
      ],
      "metadata": {
        "id": "wF12mGCMvhbd",
        "colab": {
          "base_uri": "https://localhost:8080/"
        },
        "outputId": "c3926d4b-6411-4f54-c188-e9cf5f27eae7"
      },
      "execution_count": 34,
      "outputs": [
        {
          "output_type": "stream",
          "name": "stdout",
          "text": [
            "gzip: GoogleNews-vectors-negative300.bin already exists; do you wish to overwrite (y or n)? ^C\n"
          ]
        }
      ]
    },
    {
      "cell_type": "code",
      "source": [
        "# import KeyedVectors from gensim.models to query word vectors\n",
        "# is a necessary API to interact with Word Embeddings\n",
        "from gensim.models import KeyedVectors"
      ],
      "metadata": {
        "id": "DMx3WMl4yFbP"
      },
      "execution_count": 35,
      "outputs": []
    },
    {
      "cell_type": "code",
      "source": [
        "# call the function load_word2vec_format, passing the pre-trained Word Embeddings\n",
        "word_vectors = KeyedVectors.load_word2vec_format('GoogleNews-vectors-negative300.bin', binary=True)"
      ],
      "metadata": {
        "id": "YvZoDWgrzmmk"
      },
      "execution_count": 36,
      "outputs": []
    },
    {
      "cell_type": "code",
      "source": [
        "# implement a function called find_analogies\n",
        "def find_analogies(w1, w2, w3):\n",
        "  # w1 - w2 = ? - w3\n",
        "  # e.g. king - man = ? - woman\n",
        "  # ? = +king +woman -man\n",
        "  r = word_vectors.most_similar(positive=[w1, w3], negative=[w2])\n",
        "  print(\"%s - %s = %s - %s\" % (w1, w2, r[0][0], w3))"
      ],
      "metadata": {
        "id": "pcoO1YJD1NYx"
      },
      "execution_count": 37,
      "outputs": []
    },
    {
      "cell_type": "code",
      "source": [
        "find_analogies('king', 'man', 'woman')"
      ],
      "metadata": {
        "colab": {
          "base_uri": "https://localhost:8080/"
        },
        "id": "m_jbeCEw3P_l",
        "outputId": "aaf79516-9954-43da-9a7b-8a4b6081861b"
      },
      "execution_count": 38,
      "outputs": [
        {
          "output_type": "stream",
          "name": "stdout",
          "text": [
            "king - man = queen - woman\n"
          ]
        }
      ]
    },
    {
      "cell_type": "code",
      "source": [
        "find_analogies('france', 'paris', 'london')"
      ],
      "metadata": {
        "id": "XRHmPZG-3X5V",
        "colab": {
          "base_uri": "https://localhost:8080/"
        },
        "outputId": "9d6f38da-47da-4c6a-a736-5fe8fd54983f"
      },
      "execution_count": 39,
      "outputs": [
        {
          "output_type": "stream",
          "name": "stdout",
          "text": [
            "france - paris = england - london\n"
          ]
        }
      ]
    },
    {
      "cell_type": "code",
      "source": [
        "find_analogies('france', 'paris', 'rome')"
      ],
      "metadata": {
        "colab": {
          "base_uri": "https://localhost:8080/"
        },
        "id": "Cv9Bn6cAu0-D",
        "outputId": "655e5e25-fd7f-4f8d-cbbb-63344b95f9b6"
      },
      "execution_count": 40,
      "outputs": [
        {
          "output_type": "stream",
          "name": "stdout",
          "text": [
            "france - paris = italy - rome\n"
          ]
        }
      ]
    },
    {
      "cell_type": "code",
      "source": [
        "# sequence is important here\n",
        "find_analogies('paris', 'france', 'italy')"
      ],
      "metadata": {
        "colab": {
          "base_uri": "https://localhost:8080/"
        },
        "id": "_UEXlcn7u54n",
        "outputId": "058db07e-f4fa-49b1-c3fc-8a719b941050"
      },
      "execution_count": 41,
      "outputs": [
        {
          "output_type": "stream",
          "name": "stdout",
          "text": [
            "paris - france = lohan - italy\n"
          ]
        }
      ]
    },
    {
      "cell_type": "code",
      "source": [
        "find_analogies('france', 'french', 'english')"
      ],
      "metadata": {
        "colab": {
          "base_uri": "https://localhost:8080/"
        },
        "id": "wNZ9WNzUu_zw",
        "outputId": "df3c0902-5344-42d8-bcc2-6c98c72a4d7e"
      },
      "execution_count": 42,
      "outputs": [
        {
          "output_type": "stream",
          "name": "stdout",
          "text": [
            "france - french = england - english\n"
          ]
        }
      ]
    },
    {
      "cell_type": "code",
      "source": [
        "# Word Embeddings are not perfect\n",
        "find_analogies('japan', 'japanese', 'chinese')"
      ],
      "metadata": {
        "colab": {
          "base_uri": "https://localhost:8080/"
        },
        "id": "CRs2AUO7vRfZ",
        "outputId": "457c5128-f69b-4885-d0c7-c5058c1e4799"
      },
      "execution_count": 43,
      "outputs": [
        {
          "output_type": "stream",
          "name": "stdout",
          "text": [
            "japan - japanese = tibet - chinese\n"
          ]
        }
      ]
    },
    {
      "cell_type": "code",
      "source": [
        "find_analogies('japan', 'japanese', 'italian')"
      ],
      "metadata": {
        "colab": {
          "base_uri": "https://localhost:8080/"
        },
        "id": "T3dQOH7MvoD3",
        "outputId": "773651d5-76b5-4d43-b71d-ccc70ea35f66"
      },
      "execution_count": 44,
      "outputs": [
        {
          "output_type": "stream",
          "name": "stdout",
          "text": [
            "japan - japanese = italy - italian\n"
          ]
        }
      ]
    },
    {
      "cell_type": "code",
      "source": [
        "# there's also a miss here, but the result is still a month\n",
        "# GloVe is more accurate for this type of words\n",
        "find_analogies('december', 'november', 'june')"
      ],
      "metadata": {
        "colab": {
          "base_uri": "https://localhost:8080/"
        },
        "id": "IbI9sEDyvsgK",
        "outputId": "19a68d47-e0c8-4b53-9553-3fbd8160a88d"
      },
      "execution_count": 45,
      "outputs": [
        {
          "output_type": "stream",
          "name": "stdout",
          "text": [
            "december - november = september - june\n"
          ]
        }
      ]
    },
    {
      "cell_type": "code",
      "source": [
        "find_analogies('miami', 'florida', 'texas')"
      ],
      "metadata": {
        "colab": {
          "base_uri": "https://localhost:8080/"
        },
        "id": "rWY7w8MLwBvO",
        "outputId": "34d88416-04a3-46e1-e4e3-07daacfcae9d"
      },
      "execution_count": 46,
      "outputs": [
        {
          "output_type": "stream",
          "name": "stdout",
          "text": [
            "miami - florida = dallas - texas\n"
          ]
        }
      ]
    },
    {
      "cell_type": "code",
      "source": [
        "find_analogies('einstein', 'scientist', 'painter')"
      ],
      "metadata": {
        "colab": {
          "base_uri": "https://localhost:8080/"
        },
        "id": "q_fiEFIMwJeS",
        "outputId": "997756d0-592d-496c-f749-5f3eaa10986d"
      },
      "execution_count": 47,
      "outputs": [
        {
          "output_type": "stream",
          "name": "stdout",
          "text": [
            "einstein - scientist = jude - painter\n"
          ]
        }
      ]
    },
    {
      "cell_type": "code",
      "source": [
        "find_analogies('man', 'woman', 'she')"
      ],
      "metadata": {
        "colab": {
          "base_uri": "https://localhost:8080/"
        },
        "id": "nLXJzvnjwRsb",
        "outputId": "74cc1b32-ba9a-47bc-ce5a-c39d1d593844"
      },
      "execution_count": 48,
      "outputs": [
        {
          "output_type": "stream",
          "name": "stdout",
          "text": [
            "man - woman = he - she\n"
          ]
        }
      ]
    },
    {
      "cell_type": "code",
      "source": [
        "find_analogies('man', 'woman', 'aunt')"
      ],
      "metadata": {
        "colab": {
          "base_uri": "https://localhost:8080/"
        },
        "id": "oDu7Jt-lwd-Y",
        "outputId": "d066dc97-7e4a-47af-c3ef-1eb478f88f8a"
      },
      "execution_count": 49,
      "outputs": [
        {
          "output_type": "stream",
          "name": "stdout",
          "text": [
            "man - woman = uncle - aunt\n"
          ]
        }
      ]
    },
    {
      "cell_type": "code",
      "source": [
        "find_analogies('man', 'woman', 'sister')"
      ],
      "metadata": {
        "colab": {
          "base_uri": "https://localhost:8080/"
        },
        "id": "T3N1_4o1whvW",
        "outputId": "f6888042-112d-48e4-a014-28a8bfeb4381"
      },
      "execution_count": 50,
      "outputs": [
        {
          "output_type": "stream",
          "name": "stdout",
          "text": [
            "man - woman = brother - sister\n"
          ]
        }
      ]
    },
    {
      "cell_type": "code",
      "source": [
        "find_analogies('man', 'woman', 'wife')"
      ],
      "metadata": {
        "colab": {
          "base_uri": "https://localhost:8080/"
        },
        "id": "vycPnqTFwjuG",
        "outputId": "ae1a8285-cb6e-4baf-a104-1cb6b9fd39e9"
      },
      "execution_count": 51,
      "outputs": [
        {
          "output_type": "stream",
          "name": "stdout",
          "text": [
            "man - woman = son - wife\n"
          ]
        }
      ]
    },
    {
      "cell_type": "code",
      "source": [
        "find_analogies('man', 'woman', 'actress')"
      ],
      "metadata": {
        "colab": {
          "base_uri": "https://localhost:8080/"
        },
        "id": "w7l2mF-swl8T",
        "outputId": "2f3eb817-6142-4ebd-daec-c23da4bb10d5"
      },
      "execution_count": 52,
      "outputs": [
        {
          "output_type": "stream",
          "name": "stdout",
          "text": [
            "man - woman = actor - actress\n"
          ]
        }
      ]
    },
    {
      "cell_type": "code",
      "source": [
        "find_analogies('man', 'woman', 'mother')"
      ],
      "metadata": {
        "colab": {
          "base_uri": "https://localhost:8080/"
        },
        "id": "p0qy0GKRwpiU",
        "outputId": "7246dfd1-7569-4db5-976e-68da170e7234"
      },
      "execution_count": 53,
      "outputs": [
        {
          "output_type": "stream",
          "name": "stdout",
          "text": [
            "man - woman = father - mother\n"
          ]
        }
      ]
    },
    {
      "cell_type": "code",
      "source": [
        "find_analogies('nephew', 'niece', 'aunt')"
      ],
      "metadata": {
        "colab": {
          "base_uri": "https://localhost:8080/"
        },
        "id": "3IPhasMLwrRo",
        "outputId": "54ff31f1-0f6a-4fdd-bc1f-245ce794a4f8"
      },
      "execution_count": 54,
      "outputs": [
        {
          "output_type": "stream",
          "name": "stdout",
          "text": [
            "nephew - niece = uncle - aunt\n"
          ]
        }
      ]
    },
    {
      "cell_type": "code",
      "source": [
        "# implement a function called nearest_neighbors\n",
        "def nearest_neighbors(w):\n",
        "  r = word_vectors.most_similar(positive=[w]) # r stores most similar words and scores\n",
        "  print(\"neighbors of: %s\" % w)\n",
        "  for word, score in r:\n",
        "    print(\"\\t%s\" % word)"
      ],
      "metadata": {
        "id": "lVH8hJjbwxLk"
      },
      "execution_count": 55,
      "outputs": []
    },
    {
      "cell_type": "code",
      "source": [
        "nearest_neighbors('king')"
      ],
      "metadata": {
        "colab": {
          "base_uri": "https://localhost:8080/"
        },
        "id": "r8PTm9OGyCN2",
        "outputId": "6c3ffd55-5412-42c2-9ba5-b31f3f7d644c"
      },
      "execution_count": 56,
      "outputs": [
        {
          "output_type": "stream",
          "name": "stdout",
          "text": [
            "neighbors of: king\n",
            "\tkings\n",
            "\tqueen\n",
            "\tmonarch\n",
            "\tcrown_prince\n",
            "\tprince\n",
            "\tsultan\n",
            "\truler\n",
            "\tprinces\n",
            "\tPrince_Paras\n",
            "\tthrone\n"
          ]
        }
      ]
    },
    {
      "cell_type": "code",
      "source": [
        "nearest_neighbors('france')"
      ],
      "metadata": {
        "colab": {
          "base_uri": "https://localhost:8080/"
        },
        "id": "bYezhQCPyFR-",
        "outputId": "2b67c98c-44e8-44b7-a89e-3f8b058d4c5a"
      },
      "execution_count": 57,
      "outputs": [
        {
          "output_type": "stream",
          "name": "stdout",
          "text": [
            "neighbors of: france\n",
            "\tspain\n",
            "\tfrench\n",
            "\tgermany\n",
            "\teurope\n",
            "\titaly\n",
            "\tengland\n",
            "\teuropean\n",
            "\tbelgium\n",
            "\tusa\n",
            "\tserbia\n"
          ]
        }
      ]
    },
    {
      "cell_type": "code",
      "source": [
        "nearest_neighbors('japan')"
      ],
      "metadata": {
        "colab": {
          "base_uri": "https://localhost:8080/"
        },
        "id": "rNceMP3GyJch",
        "outputId": "ff096ace-e14b-455e-b2bb-fd3321d8b18c"
      },
      "execution_count": 58,
      "outputs": [
        {
          "output_type": "stream",
          "name": "stdout",
          "text": [
            "neighbors of: japan\n",
            "\tjapanese\n",
            "\ttokyo\n",
            "\tamerica\n",
            "\teurope\n",
            "\tgermany\n",
            "\tchinese\n",
            "\tindia\n",
            "\thawaii\n",
            "\tusa\n",
            "\tkorea\n"
          ]
        }
      ]
    },
    {
      "cell_type": "code",
      "source": [
        "nearest_neighbors('einstein')"
      ],
      "metadata": {
        "colab": {
          "base_uri": "https://localhost:8080/"
        },
        "id": "Wase2sn9yNxh",
        "outputId": "c0b92a8f-2014-4b02-9b55-32179cc91ea9"
      },
      "execution_count": 59,
      "outputs": [
        {
          "output_type": "stream",
          "name": "stdout",
          "text": [
            "neighbors of: einstein\n",
            "\tnikki\n",
            "\tlmfao\n",
            "\talbert\n",
            "\tarmstrong\n",
            "\tjoan\n",
            "\tbecky\n",
            "\tmcmahon\n",
            "\tconrad\n",
            "\tlori\n",
            "\thaley\n"
          ]
        }
      ]
    },
    {
      "cell_type": "code",
      "source": [
        "nearest_neighbors('woman')"
      ],
      "metadata": {
        "colab": {
          "base_uri": "https://localhost:8080/"
        },
        "id": "S1rx5batyQyo",
        "outputId": "9cbb114f-69b2-4ab3-a735-e8984b815ed4"
      },
      "execution_count": 60,
      "outputs": [
        {
          "output_type": "stream",
          "name": "stdout",
          "text": [
            "neighbors of: woman\n",
            "\tman\n",
            "\tgirl\n",
            "\tteenage_girl\n",
            "\tteenager\n",
            "\tlady\n",
            "\tteenaged_girl\n",
            "\tmother\n",
            "\tpolicewoman\n",
            "\tboy\n",
            "\tWoman\n"
          ]
        }
      ]
    },
    {
      "cell_type": "code",
      "source": [
        "nearest_neighbors('nephew')"
      ],
      "metadata": {
        "colab": {
          "base_uri": "https://localhost:8080/"
        },
        "id": "_0v1EmRkyUi5",
        "outputId": "35b03c88-3026-48a7-cc5c-2305e74f08d7"
      },
      "execution_count": 61,
      "outputs": [
        {
          "output_type": "stream",
          "name": "stdout",
          "text": [
            "neighbors of: nephew\n",
            "\tson\n",
            "\tuncle\n",
            "\tbrother\n",
            "\tgrandson\n",
            "\tcousin\n",
            "\tfather\n",
            "\tniece\n",
            "\tyounger_brother\n",
            "\tnephews\n",
            "\tstepson\n"
          ]
        }
      ]
    },
    {
      "cell_type": "code",
      "source": [
        "nearest_neighbors('february')"
      ],
      "metadata": {
        "colab": {
          "base_uri": "https://localhost:8080/"
        },
        "id": "YUEf1dcuyXpC",
        "outputId": "be8db7eb-1ba2-4bb1-ebe5-04805c14862f"
      },
      "execution_count": 62,
      "outputs": [
        {
          "output_type": "stream",
          "name": "stdout",
          "text": [
            "neighbors of: february\n",
            "\tjanuary\n",
            "\tapril\n",
            "\tseptember\n",
            "\tdecember\n",
            "\tjuly\n",
            "\toctober\n",
            "\tnovember\n",
            "\tjune\n",
            "\tfeb\n",
            "\tnorway\n"
          ]
        }
      ]
    },
    {
      "cell_type": "markdown",
      "source": [
        "**GloVe(Stanford)**"
      ],
      "metadata": {
        "id": "ng6DuUaW1Wkf"
      }
    },
    {
      "cell_type": "code",
      "source": [
        "!wget -nc https://nlp.stanford.edu/data/glove.6B.zip"
      ],
      "metadata": {
        "colab": {
          "base_uri": "https://localhost:8080/"
        },
        "id": "9cdvWwQJzxTf",
        "outputId": "3a36f88f-5f4c-43bd-f24e-4b4ed78e76d3"
      },
      "execution_count": 63,
      "outputs": [
        {
          "output_type": "stream",
          "name": "stdout",
          "text": [
            "--2023-09-18 15:02:48--  https://nlp.stanford.edu/data/glove.6B.zip\n",
            "Resolving nlp.stanford.edu (nlp.stanford.edu)... 171.64.67.140\n",
            "Connecting to nlp.stanford.edu (nlp.stanford.edu)|171.64.67.140|:443... connected.\n",
            "HTTP request sent, awaiting response... 301 Moved Permanently\n",
            "Location: https://downloads.cs.stanford.edu/nlp/data/glove.6B.zip [following]\n",
            "--2023-09-18 15:02:49--  https://downloads.cs.stanford.edu/nlp/data/glove.6B.zip\n",
            "Resolving downloads.cs.stanford.edu (downloads.cs.stanford.edu)... 171.64.64.22\n",
            "Connecting to downloads.cs.stanford.edu (downloads.cs.stanford.edu)|171.64.64.22|:443... connected.\n",
            "HTTP request sent, awaiting response... 200 OK\n",
            "Length: 862182613 (822M) [application/zip]\n",
            "Saving to: ‘glove.6B.zip’\n",
            "\n",
            "glove.6B.zip        100%[===================>] 822.24M  4.80MB/s    in 2m 54s  \n",
            "\n",
            "2023-09-18 15:05:43 (4.72 MB/s) - ‘glove.6B.zip’ saved [862182613/862182613]\n",
            "\n"
          ]
        }
      ]
    },
    {
      "cell_type": "code",
      "source": [
        "!unzip glove.6B.zip"
      ],
      "metadata": {
        "colab": {
          "base_uri": "https://localhost:8080/"
        },
        "id": "fL2wCf4N0L-c",
        "outputId": "4e6f8bee-88db-48ac-cc5f-248c238d019c"
      },
      "execution_count": 64,
      "outputs": [
        {
          "output_type": "stream",
          "name": "stdout",
          "text": [
            "Archive:  glove.6B.zip\n",
            "  inflating: glove.6B.50d.txt        \n",
            "  inflating: glove.6B.100d.txt       \n",
            "  inflating: glove.6B.200d.txt       \n",
            "  inflating: glove.6B.300d.txt       \n"
          ]
        }
      ]
    },
    {
      "cell_type": "code",
      "source": [
        "from gensim.scripts.glove2word2vec import glove2word2vec"
      ],
      "metadata": {
        "id": "uxkKbHoi2UQt"
      },
      "execution_count": 65,
      "outputs": []
    },
    {
      "cell_type": "code",
      "source": [
        "glove2word2vec('glove.6B.300d.txt','glove.6B.300d.word2vec.txt')"
      ],
      "metadata": {
        "colab": {
          "base_uri": "https://localhost:8080/"
        },
        "id": "BdXjX0Ru2kYb",
        "outputId": "6354d337-1adb-491b-d650-413a73ed0e72"
      },
      "execution_count": 67,
      "outputs": [
        {
          "output_type": "stream",
          "name": "stderr",
          "text": [
            "<ipython-input-67-697589dd5977>:1: DeprecationWarning: Call to deprecated `glove2word2vec` (KeyedVectors.load_word2vec_format(.., binary=False, no_header=True) loads GLoVE text vectors.).\n",
            "  glove2word2vec('glove.6B.300d.txt','glove.6B.300d.word2vec.txt')\n"
          ]
        },
        {
          "output_type": "execute_result",
          "data": {
            "text/plain": [
              "(400000, 300)"
            ]
          },
          "metadata": {},
          "execution_count": 67
        }
      ]
    },
    {
      "cell_type": "code",
      "source": [
        "word_vectors_glove = KeyedVectors.load_word2vec_format('glove.6B.300d.word2vec.txt', binary=False)"
      ],
      "metadata": {
        "id": "lUHrQYCa097Z"
      },
      "execution_count": 68,
      "outputs": []
    },
    {
      "cell_type": "code",
      "source": [
        "def find_analogies_glove(w1, w2, w3):\n",
        "  # w1 - w2 = ? - w3\n",
        "  # e.g. king - man = ? - woman\n",
        "  #      ? = +king +woman -man\n",
        "  r = word_vectors_glove.most_similar(positive=[w1, w3], negative=[w2])\n",
        "  print(\"%s - %s = %s - %s\" % (w1, w2, r[0][0], w3))"
      ],
      "metadata": {
        "id": "kzpQ0rCx31_n"
      },
      "execution_count": 69,
      "outputs": []
    },
    {
      "cell_type": "code",
      "source": [
        "find_analogies_glove('king', 'man', 'woman')"
      ],
      "metadata": {
        "colab": {
          "base_uri": "https://localhost:8080/"
        },
        "id": "Luh2M00s4TCW",
        "outputId": "b2e2537a-d517-4f4e-c4a1-50b75e032eb8"
      },
      "execution_count": 70,
      "outputs": [
        {
          "output_type": "stream",
          "name": "stdout",
          "text": [
            "king - man = queen - woman\n"
          ]
        }
      ]
    },
    {
      "cell_type": "code",
      "source": [
        "find_analogies_glove('france', 'paris', 'london')"
      ],
      "metadata": {
        "colab": {
          "base_uri": "https://localhost:8080/"
        },
        "id": "XsRb4sCl4XMW",
        "outputId": "a374f286-c044-441e-856e-bbe621b99bef"
      },
      "execution_count": 71,
      "outputs": [
        {
          "output_type": "stream",
          "name": "stdout",
          "text": [
            "france - paris = britain - london\n"
          ]
        }
      ]
    },
    {
      "cell_type": "code",
      "source": [
        "find_analogies_glove('france', 'paris', 'rome')"
      ],
      "metadata": {
        "colab": {
          "base_uri": "https://localhost:8080/"
        },
        "id": "pKiJJYIf4aot",
        "outputId": "ba820d06-245b-4ef0-906b-6e3fd8695b3e"
      },
      "execution_count": 72,
      "outputs": [
        {
          "output_type": "stream",
          "name": "stdout",
          "text": [
            "france - paris = italy - rome\n"
          ]
        }
      ]
    },
    {
      "cell_type": "code",
      "source": [
        "find_analogies_glove('paris', 'france', 'italy')"
      ],
      "metadata": {
        "colab": {
          "base_uri": "https://localhost:8080/"
        },
        "id": "sxMF8AVZ4d3B",
        "outputId": "b8c617b5-f487-4a1c-b874-b2c95b32e6d5"
      },
      "execution_count": 73,
      "outputs": [
        {
          "output_type": "stream",
          "name": "stdout",
          "text": [
            "paris - france = rome - italy\n"
          ]
        }
      ]
    },
    {
      "cell_type": "code",
      "source": [
        "find_analogies_glove('france', 'french', 'english')"
      ],
      "metadata": {
        "colab": {
          "base_uri": "https://localhost:8080/"
        },
        "id": "nteYFT1j4hWg",
        "outputId": "5e346243-2831-44b3-b38f-0b86e344c89d"
      },
      "execution_count": 74,
      "outputs": [
        {
          "output_type": "stream",
          "name": "stdout",
          "text": [
            "france - french = england - english\n"
          ]
        }
      ]
    },
    {
      "cell_type": "code",
      "source": [
        "find_analogies_glove('japan', 'japanese', 'chinese')"
      ],
      "metadata": {
        "colab": {
          "base_uri": "https://localhost:8080/"
        },
        "id": "ZuqnNfv24la8",
        "outputId": "391ab060-8297-4e8e-f574-30e4119417dd"
      },
      "execution_count": 75,
      "outputs": [
        {
          "output_type": "stream",
          "name": "stdout",
          "text": [
            "japan - japanese = china - chinese\n"
          ]
        }
      ]
    },
    {
      "cell_type": "code",
      "source": [
        "find_analogies_glove('japan', 'japanese', 'italian')"
      ],
      "metadata": {
        "colab": {
          "base_uri": "https://localhost:8080/"
        },
        "id": "-WMX4Gj34o9S",
        "outputId": "fd960f3b-1e90-43ca-829c-ad47b57a4bd7"
      },
      "execution_count": 76,
      "outputs": [
        {
          "output_type": "stream",
          "name": "stdout",
          "text": [
            "japan - japanese = italy - italian\n"
          ]
        }
      ]
    },
    {
      "cell_type": "code",
      "source": [
        "find_analogies_glove('december', 'november', 'june')"
      ],
      "metadata": {
        "colab": {
          "base_uri": "https://localhost:8080/"
        },
        "id": "bDRnNHC94tK-",
        "outputId": "1e575725-6cda-4a98-e7f3-ce1daf9920ae"
      },
      "execution_count": 77,
      "outputs": [
        {
          "output_type": "stream",
          "name": "stdout",
          "text": [
            "december - november = july - june\n"
          ]
        }
      ]
    },
    {
      "cell_type": "code",
      "source": [
        "find_analogies_glove('miami', 'florida', 'texas')"
      ],
      "metadata": {
        "colab": {
          "base_uri": "https://localhost:8080/"
        },
        "id": "PvrW1R8h4wLC",
        "outputId": "5617c305-0ced-4500-b3fb-226793a18bf0"
      },
      "execution_count": 78,
      "outputs": [
        {
          "output_type": "stream",
          "name": "stdout",
          "text": [
            "miami - florida = dallas - texas\n"
          ]
        }
      ]
    },
    {
      "cell_type": "code",
      "source": [
        "find_analogies_glove('einstein', 'scientist', 'painter')"
      ],
      "metadata": {
        "colab": {
          "base_uri": "https://localhost:8080/"
        },
        "id": "Z_gX3Axs4zvY",
        "outputId": "a6741fc0-07f6-476c-f4b8-8dcf24cbd1fb"
      },
      "execution_count": 79,
      "outputs": [
        {
          "output_type": "stream",
          "name": "stdout",
          "text": [
            "einstein - scientist = picasso - painter\n"
          ]
        }
      ]
    },
    {
      "cell_type": "code",
      "source": [
        "find_analogies_glove('man', 'woman', 'she')"
      ],
      "metadata": {
        "colab": {
          "base_uri": "https://localhost:8080/"
        },
        "id": "z9Qhagad419B",
        "outputId": "1339d063-5ecf-43f1-8e8d-44eecafa967c"
      },
      "execution_count": 80,
      "outputs": [
        {
          "output_type": "stream",
          "name": "stdout",
          "text": [
            "man - woman = he - she\n"
          ]
        }
      ]
    },
    {
      "cell_type": "code",
      "source": [
        "find_analogies_glove('man', 'woman', 'aunt')"
      ],
      "metadata": {
        "colab": {
          "base_uri": "https://localhost:8080/"
        },
        "id": "yNTC7s0u44i2",
        "outputId": "bc0ee480-f5af-40e0-f817-dd78f8c0545e"
      },
      "execution_count": 81,
      "outputs": [
        {
          "output_type": "stream",
          "name": "stdout",
          "text": [
            "man - woman = uncle - aunt\n"
          ]
        }
      ]
    },
    {
      "cell_type": "code",
      "source": [
        "find_analogies_glove('man', 'woman', 'sister')"
      ],
      "metadata": {
        "colab": {
          "base_uri": "https://localhost:8080/"
        },
        "id": "ePkKHowd473I",
        "outputId": "faa4338f-e02f-4bb0-e001-9af781a98e79"
      },
      "execution_count": 82,
      "outputs": [
        {
          "output_type": "stream",
          "name": "stdout",
          "text": [
            "man - woman = brother - sister\n"
          ]
        }
      ]
    },
    {
      "cell_type": "code",
      "source": [
        "find_analogies_glove('man', 'woman', 'wife')"
      ],
      "metadata": {
        "colab": {
          "base_uri": "https://localhost:8080/"
        },
        "id": "bWl7cXi_4_Yo",
        "outputId": "e964ae4a-ff25-4a9f-c4b1-e1b1a88bf106"
      },
      "execution_count": 83,
      "outputs": [
        {
          "output_type": "stream",
          "name": "stdout",
          "text": [
            "man - woman = brother - wife\n"
          ]
        }
      ]
    },
    {
      "cell_type": "code",
      "source": [
        "find_analogies_glove('man', 'woman', 'actress')"
      ],
      "metadata": {
        "colab": {
          "base_uri": "https://localhost:8080/"
        },
        "id": "a7Lo2-E-5CIi",
        "outputId": "bef2a25f-7306-4bbb-87f6-3845a3b26648"
      },
      "execution_count": 84,
      "outputs": [
        {
          "output_type": "stream",
          "name": "stdout",
          "text": [
            "man - woman = actor - actress\n"
          ]
        }
      ]
    },
    {
      "cell_type": "code",
      "source": [
        "find_analogies_glove('man', 'woman', 'mother')"
      ],
      "metadata": {
        "colab": {
          "base_uri": "https://localhost:8080/"
        },
        "id": "z62uIMTo5HHW",
        "outputId": "d67ca0f4-168b-40c4-d77b-d508b75ccf60"
      },
      "execution_count": 85,
      "outputs": [
        {
          "output_type": "stream",
          "name": "stdout",
          "text": [
            "man - woman = father - mother\n"
          ]
        }
      ]
    },
    {
      "cell_type": "code",
      "source": [
        "find_analogies_glove('nephew', 'niece', 'aunt')"
      ],
      "metadata": {
        "colab": {
          "base_uri": "https://localhost:8080/"
        },
        "id": "f7URn-mx5KJX",
        "outputId": "b07752a6-70d0-4052-afbf-51dd8bb4a72a"
      },
      "execution_count": 86,
      "outputs": [
        {
          "output_type": "stream",
          "name": "stdout",
          "text": [
            "nephew - niece = uncle - aunt\n"
          ]
        }
      ]
    },
    {
      "cell_type": "code",
      "source": [
        "def nearest_neighbors_glove(w):\n",
        "  r = word_vectors_glove.most_similar(positive=[w])\n",
        "  print(\"neighbors of: %s\" % w)\n",
        "  for word, score in r:\n",
        "    print(\"\\t%s\" % word)"
      ],
      "metadata": {
        "id": "vi4pGBoi5MaP"
      },
      "execution_count": 87,
      "outputs": []
    },
    {
      "cell_type": "code",
      "source": [
        "nearest_neighbors_glove('king')"
      ],
      "metadata": {
        "colab": {
          "base_uri": "https://localhost:8080/"
        },
        "id": "6RERUZ675Sse",
        "outputId": "dcdce200-1646-40c9-f6f0-94f8affdcab2"
      },
      "execution_count": 88,
      "outputs": [
        {
          "output_type": "stream",
          "name": "stdout",
          "text": [
            "neighbors of: king\n",
            "\tqueen\n",
            "\tprince\n",
            "\tmonarch\n",
            "\tkingdom\n",
            "\tthrone\n",
            "\tii\n",
            "\tiii\n",
            "\tcrown\n",
            "\treign\n",
            "\tkings\n"
          ]
        }
      ]
    },
    {
      "cell_type": "code",
      "source": [
        "nearest_neighbors_glove('france')"
      ],
      "metadata": {
        "colab": {
          "base_uri": "https://localhost:8080/"
        },
        "id": "lbxkcvmA5VSj",
        "outputId": "70edae94-d0b8-4181-8481-74d45799999f"
      },
      "execution_count": 89,
      "outputs": [
        {
          "output_type": "stream",
          "name": "stdout",
          "text": [
            "neighbors of: france\n",
            "\tfrench\n",
            "\tparis\n",
            "\tbelgium\n",
            "\tspain\n",
            "\titaly\n",
            "\tgermany\n",
            "\tprohertrib\n",
            "\tbritain\n",
            "\tchirac\n",
            "\tswitzerland\n"
          ]
        }
      ]
    },
    {
      "cell_type": "code",
      "source": [
        "nearest_neighbors_glove('japan')"
      ],
      "metadata": {
        "colab": {
          "base_uri": "https://localhost:8080/"
        },
        "id": "1xEm1cUn5ZuJ",
        "outputId": "407e8666-787a-4cf8-afbc-fbd5d1938a71"
      },
      "execution_count": 90,
      "outputs": [
        {
          "output_type": "stream",
          "name": "stdout",
          "text": [
            "neighbors of: japan\n",
            "\tjapanese\n",
            "\ttokyo\n",
            "\tkorea\n",
            "\tchina\n",
            "\tasia\n",
            "\tosaka\n",
            "\thashimoto\n",
            "\ttaiwan\n",
            "\tphilippines\n",
            "\tthailand\n"
          ]
        }
      ]
    },
    {
      "cell_type": "code",
      "source": [
        "nearest_neighbors_glove('einstein')"
      ],
      "metadata": {
        "colab": {
          "base_uri": "https://localhost:8080/"
        },
        "id": "HqQLWrP85ctV",
        "outputId": "31e516d6-cb2c-4707-c710-bd8afe5f97b2"
      },
      "execution_count": 91,
      "outputs": [
        {
          "output_type": "stream",
          "name": "stdout",
          "text": [
            "neighbors of: einstein\n",
            "\trelativity\n",
            "\tbohr\n",
            "\tphysicists\n",
            "\theisenberg\n",
            "\tsigmund\n",
            "\tfreud\n",
            "\tequations\n",
            "\ttheory\n",
            "\tphysics\n",
            "\tphysicist\n"
          ]
        }
      ]
    },
    {
      "cell_type": "code",
      "source": [
        "nearest_neighbors_glove('woman')"
      ],
      "metadata": {
        "colab": {
          "base_uri": "https://localhost:8080/"
        },
        "id": "yDOlVfvm5gDN",
        "outputId": "e558e74f-b841-48c1-9fa5-13364688aea6"
      },
      "execution_count": 92,
      "outputs": [
        {
          "output_type": "stream",
          "name": "stdout",
          "text": [
            "neighbors of: woman\n",
            "\tgirl\n",
            "\tman\n",
            "\tmother\n",
            "\tshe\n",
            "\ther\n",
            "\tfemale\n",
            "\therself\n",
            "\tperson\n",
            "\twomen\n",
            "\twife\n"
          ]
        }
      ]
    },
    {
      "cell_type": "code",
      "source": [
        "nearest_neighbors_glove('nephew')"
      ],
      "metadata": {
        "colab": {
          "base_uri": "https://localhost:8080/"
        },
        "id": "AHdmqwY35j7y",
        "outputId": "6f305646-ee8b-474c-e38a-c6834fe974b3"
      },
      "execution_count": 93,
      "outputs": [
        {
          "output_type": "stream",
          "name": "stdout",
          "text": [
            "neighbors of: nephew\n",
            "\tbrother\n",
            "\tcousin\n",
            "\tgrandson\n",
            "\tuncle\n",
            "\tson\n",
            "\tniece\n",
            "\teldest\n",
            "\tbrother-in-law\n",
            "\tson-in-law\n",
            "\tfather\n"
          ]
        }
      ]
    },
    {
      "cell_type": "code",
      "source": [
        "nearest_neighbors_glove('february')"
      ],
      "metadata": {
        "colab": {
          "base_uri": "https://localhost:8080/"
        },
        "id": "njfOZQQR5mKr",
        "outputId": "d99ca602-d29c-4ff8-bb83-ea2c7f0fe7a2"
      },
      "execution_count": 94,
      "outputs": [
        {
          "output_type": "stream",
          "name": "stdout",
          "text": [
            "neighbors of: february\n",
            "\toctober\n",
            "\tdecember\n",
            "\tjanuary\n",
            "\tnovember\n",
            "\tapril\n",
            "\taugust\n",
            "\tseptember\n",
            "\tjune\n",
            "\tjuly\n",
            "\tmarch\n"
          ]
        }
      ]
    },
    {
      "cell_type": "code",
      "source": [],
      "metadata": {
        "id": "s2n-UUxe5pn4"
      },
      "execution_count": null,
      "outputs": []
    }
  ]
}